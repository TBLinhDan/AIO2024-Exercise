{
 "cells": [
  {
   "cell_type": "code",
   "execution_count": 5,
   "id": "27c4258a-9bff-4dfd-8d69-df71541f70d8",
   "metadata": {},
   "outputs": [
    {
     "name": "stdout",
     "output_type": "stream",
     "text": [
      "\n",
      "multiple-choice questions No 9\n",
      "-1.0\n",
      "\n",
      "multiple-choice questions No 10\n",
      "0.0016\n",
      "\n",
      "multiple-choice questions No 11\n",
      "11.53\n",
      "\n",
      "multiple-choice questions No 12\n",
      "11.57\n",
      "0.0015926529267151343\n",
      "-0.9999987316527259\n",
      "11.53029203039954\n",
      "11.573574828234543\n"
     ]
    }
   ],
   "source": [
    "#4. approximation\n",
    "\n",
    "def factorial(n):\n",
    "  if n == 0:\n",
    "    return 1\n",
    "  else:\n",
    "    return n * factorial(n-1)\n",
    "\n",
    "def approx_cos(x, n):\n",
    "    cos_x = 0\n",
    "    for i in range(n+1):\n",
    "        cos_x += ((-1)**i)*(x ** (2*i)) / factorial(2*i)\n",
    "    return cos_x\n",
    "    \n",
    "print(f\"\\nmultiple-choice questions No 9\")\n",
    "assert round(approx_cos(1 , 10), 2) == 0.54\n",
    "print (round(approx_cos(3.14, n =10), 2))\n",
    "\n",
    "def approx_sin(x, n):\n",
    "    sin_x = 0\n",
    "    for i in range(n+1):\n",
    "        sin_x += ((-1)**i)*(x ** (2*i+1)) / factorial(2*i+1)\n",
    "    return sin_x\n",
    "    \n",
    "print(f\"\\nmultiple-choice questions No 10\")\n",
    "assert round(approx_sin(1, 10), 4) == 0.8415\n",
    "print (round(approx_sin(3.14, 10), 4))\n",
    "\n",
    "def approx_sinh(x, n):\n",
    "    sinh_x = 0\n",
    "    for i in range(n+1):\n",
    "        sinh_x += (x ** (2*i+1)) / factorial(2*i+1)\n",
    "    return sinh_x\n",
    "\n",
    "print(f\"\\nmultiple-choice questions No 11\")\n",
    "assert round(approx_sinh(1 , 10), 2) == 1.18\n",
    "print (round(approx_sinh(3.14, 10), 2))\n",
    "\n",
    "def approx_cosh(x, n):\n",
    "    cosh_x = 0\n",
    "    for i in range(n+1):\n",
    "        cosh_x += (x ** (2*i)) / factorial(2*i)\n",
    "    return cosh_x\n",
    "\n",
    "print(f\"\\nmultiple-choice questions No 12\")\n",
    "assert round(approx_cosh(1, 10), 2) == 1.54\n",
    "print(round(approx_cosh(3.14, 10), 2))\n",
    "\n",
    "\n",
    "print(approx_sin( x =3.14 , n =10))\n",
    "print(approx_cos( x =3.14 , n =10))\n",
    "print(approx_sinh( x =3.14 , n =10))\n",
    "print(approx_cosh( x =3.14 , n =10))"
   ]
  },
  {
   "cell_type": "code",
   "execution_count": null,
   "id": "8f9e2d02-8c85-46e9-b433-1e656525f709",
   "metadata": {},
   "outputs": [],
   "source": []
  }
 ],
 "metadata": {
  "kernelspec": {
   "display_name": "Python 3 (ipykernel)",
   "language": "python",
   "name": "python3"
  },
  "language_info": {
   "codemirror_mode": {
    "name": "ipython",
    "version": 3
   },
   "file_extension": ".py",
   "mimetype": "text/x-python",
   "name": "python",
   "nbconvert_exporter": "python",
   "pygments_lexer": "ipython3",
   "version": "3.11.7"
  }
 },
 "nbformat": 4,
 "nbformat_minor": 5
}
