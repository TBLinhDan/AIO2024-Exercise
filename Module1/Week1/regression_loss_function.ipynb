{
 "cells": [
  {
   "cell_type": "code",
   "execution_count": 1,
   "id": "dbf14332-0675-4e28-8626-55d1ebcd7caa",
   "metadata": {},
   "outputs": [
    {
     "name": "stdin",
     "output_type": "stream",
     "text": [
      "Input number of samples: 5\n"
     ]
    },
    {
     "name": "stdout",
     "output_type": "stream",
     "text": [
      "predict list:\n",
      " [8.273385964286318, 7.273703620170947, 8.128034340232995, 7.285224212355304, 0.45587278646988527]\n",
      "target list:\n",
      " [5.777238375098618, 1.2174178502316868, 8.963667870968246, 1.994047430666256, 7.991713895249417]\n"
     ]
    },
    {
     "name": "stdin",
     "output_type": "stream",
     "text": [
      "Input loss name (MAE | MSE | RMSE) : MAE\n"
     ]
    },
    {
     "name": "stdout",
     "output_type": "stream",
     "text": [
      "loss name: MAE, samlpe: 0, predict: 8.273385964286318, target: 5.777238375098618\n",
      "loss: 2.4961475891877\n",
      "loss name: MAE, samlpe: 1, predict: 7.273703620170947, target: 1.2174178502316868\n",
      "loss: 6.05628576993926\n",
      "loss name: MAE, samlpe: 2, predict: 8.128034340232995, target: 8.963667870968246\n",
      "loss: 0.8356335307352509\n",
      "loss name: MAE, samlpe: 3, predict: 7.285224212355304, target: 1.994047430666256\n",
      "loss: 5.291176781689049\n",
      "loss name: MAE, samlpe: 4, predict: 0.45587278646988527, target: 7.991713895249417\n",
      "loss: 7.535841108779532\n"
     ]
    }
   ],
   "source": [
    "#3. regression loss function\n",
    "\n",
    "import numpy as np\n",
    "import math\n",
    "\n",
    "num_sample = input(\"Input number of samples:\")\n",
    "\n",
    "if num_sample.isnumeric():\n",
    "    num_sample = int(num_sample)\n",
    "    predict = []\n",
    "    target = []\n",
    "    for i in range(num_sample):\n",
    "        random_number_predict = np.random.uniform(0,10)\n",
    "        predict.append(random_number_predict)\n",
    "    print(f\"predict list:\\n {predict}\")\n",
    "    \n",
    "    for i in range(num_sample):\n",
    "        random_number_target = np.random.uniform(0,10)\n",
    "        target.append(random_number_target)\n",
    "    print(f\"target list:\\n {target}\")\n",
    "    \n",
    "    def loss_func(name):\n",
    "        if name == \"MAE\":\n",
    "            #print(f\"\\nloss name: MAE\")\n",
    "            for i in range(num_sample):\n",
    "                print(f\"loss name: MAE, samlpe: {i}, predict: {predict[i]}, target: {target[i]}\")\n",
    "                print(f\"loss: {abs(predict[i] - target[i])}\")\n",
    "        elif name == \"MSE\":\n",
    "            #print(f\"\\nloss name: MSE\")\n",
    "            for i in range(num_sample):\n",
    "                print(f\"loss name: MSE, samlpe: {i}, predict: {predict[i]}, target: {target[i]}\")\n",
    "                print(f\"loss: {((predict[i] - target[i])) ** 2}\")\n",
    "        else: \n",
    "            #print(f\"\\nloss name: RMSE\")\n",
    "            for i in range(num_sample):\n",
    "                print(f\"loss name: RMSE, samlpe: {i}, predict: {predict[i]}, target: {target[i]}\")\n",
    "                print(f\"loss: {math.sqrt(((predict[i] - target[i])) ** 2)}\")\n",
    "                      \n",
    "    loss_name = input(\"Input loss name (MAE | MSE | RMSE) :\") \n",
    "    \n",
    "    if (loss_name == \"MAE\") or (loss_name == \"MSE\") or (loss_name == \"RMSE\"):\n",
    "        loss_func(loss_name) \n",
    "    else:\n",
    "        print(\"the name_function_user is not supported\")\n",
    "\n",
    "else: \n",
    "    print(\"number of samples must be an integer number\")"
   ]
  },
  {
   "cell_type": "code",
   "execution_count": null,
   "id": "01c77f9e-d6af-45e2-8dae-29f735b2961c",
   "metadata": {},
   "outputs": [],
   "source": []
  }
 ],
 "metadata": {
  "kernelspec": {
   "display_name": "Python 3 (ipykernel)",
   "language": "python",
   "name": "python3"
  },
  "language_info": {
   "codemirror_mode": {
    "name": "ipython",
    "version": 3
   },
   "file_extension": ".py",
   "mimetype": "text/x-python",
   "name": "python",
   "nbconvert_exporter": "python",
   "pygments_lexer": "ipython3",
   "version": "3.11.7"
  }
 },
 "nbformat": 4,
 "nbformat_minor": 5
}
