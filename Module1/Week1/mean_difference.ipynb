{
 "cells": [
  {
   "cell_type": "code",
   "execution_count": 5,
   "id": "f62d0ce7-6f04-4007-a60c-d4ca3e8f5a78",
   "metadata": {},
   "outputs": [
    {
     "name": "stdout",
     "output_type": "stream",
     "text": [
      "\n",
      "multiple-choice questions No 7\n",
      "7\n",
      "\n",
      "multiple-choice questions No 8\n",
      "1\n",
      "\n",
      "multiple-choice questions No 13\n",
      "0.025031328369998107\n",
      "0.03544417213033135\n",
      "0.05625552183565574\n",
      "0.45836890322464546\n"
     ]
    }
   ],
   "source": [
    "#5. Mean Difference\n",
    "import numpy as np\n",
    "\n",
    "def calc_ae(y, y_hat):\n",
    "    return np.abs(y - y_hat)\n",
    "    \n",
    "print(f\"\\nmultiple-choice questions No 7\")\n",
    "y = 1\n",
    "y_hat = 6\n",
    "assert calc_ae(y, y_hat) ==5\n",
    "y = 2\n",
    "y_hat = 9\n",
    "print (calc_ae(y, y_hat))\n",
    "\n",
    "print(f\"\\nmultiple-choice questions No 8\")\n",
    "def calc_se (y, y_hat):\n",
    "    x = np.abs(y - y_hat)\n",
    "    return  x ** 2\n",
    "\n",
    "y = 4\n",
    "y_hat = 2\n",
    "assert calc_se(y, y_hat) == 4\n",
    "print(calc_se(2, 1))\n",
    "\n",
    "print(f\"\\nmultiple-choice questions No 13\")\n",
    "def md_nre_single_sample(y , y_hat , n , p) :\n",
    "    y_root = y ** (1/n)\n",
    "    y_hat_root = y_hat ** (1/n)\n",
    "    difference = y_root - y_hat_root\n",
    "    loss = difference ** p\n",
    "    return loss\n",
    "\n",
    "print(md_nre_single_sample(100, 99.5, 2, 1))\n",
    "print(md_nre_single_sample(50, 49.5, 2, 1))\n",
    "print(md_nre_single_sample(20, 19.5, 2, 1))\n",
    "print(md_nre_single_sample(0.6, 0.1, 2,1))\n"
   ]
  },
  {
   "cell_type": "code",
   "execution_count": null,
   "id": "a98b8765-cacb-40f0-8259-4ece41a3edab",
   "metadata": {},
   "outputs": [],
   "source": []
  },
  {
   "cell_type": "code",
   "execution_count": null,
   "id": "8d704263-b3c0-4318-9f51-5ab3adca073f",
   "metadata": {},
   "outputs": [],
   "source": []
  }
 ],
 "metadata": {
  "kernelspec": {
   "display_name": "Python 3 (ipykernel)",
   "language": "python",
   "name": "python3"
  },
  "language_info": {
   "codemirror_mode": {
    "name": "ipython",
    "version": 3
   },
   "file_extension": ".py",
   "mimetype": "text/x-python",
   "name": "python",
   "nbconvert_exporter": "python",
   "pygments_lexer": "ipython3",
   "version": "3.11.7"
  }
 },
 "nbformat": 4,
 "nbformat_minor": 5
}
