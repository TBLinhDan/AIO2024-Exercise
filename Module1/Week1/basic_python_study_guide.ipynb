{
 "cells": [
  {
   "cell_type": "code",
   "execution_count": null,
   "id": "4c03ac8c-1369-4752-8f89-1d85cd0754fd",
   "metadata": {},
   "outputs": [],
   "source": [
    "# BASIC PYTHON - VARIABLE"
   ]
  },
  {
   "cell_type": "code",
   "execution_count": 1,
   "id": "80e0dd10-e43b-48fe-9a9d-acb1a92c780c",
   "metadata": {},
   "outputs": [
    {
     "name": "stdout",
     "output_type": "stream",
     "text": [
      "Hello world!\n"
     ]
    }
   ],
   "source": [
    "print(\"Hello world!\")"
   ]
  },
  {
   "cell_type": "code",
   "execution_count": 3,
   "id": "4f9f498b-f54c-4e47-85e0-9edef38545c4",
   "metadata": {},
   "outputs": [
    {
     "name": "stdout",
     "output_type": "stream",
     "text": [
      "Have a nice day !\n"
     ]
    }
   ],
   "source": [
    "message = \"Have a nice day !\"\n",
    "print(message)"
   ]
  },
  {
   "cell_type": "code",
   "execution_count": 4,
   "id": "14dc049b-c686-4c29-b3bc-204597662ebe",
   "metadata": {},
   "outputs": [
    {
     "ename": "SyntaxError",
     "evalue": "invalid decimal literal (2585779550.py, line 1)",
     "output_type": "error",
     "traceback": [
      "\u001b[1;36m  Cell \u001b[1;32mIn[4], line 1\u001b[1;36m\u001b[0m\n\u001b[1;33m    1_message = \"Let’s have Tet holidays!\"\u001b[0m\n\u001b[1;37m     ^\u001b[0m\n\u001b[1;31mSyntaxError\u001b[0m\u001b[1;31m:\u001b[0m invalid decimal literal\n"
     ]
    }
   ],
   "source": [
    "1_message = \"Let’s have Tet holidays!\"\n",
    "print(1_message)"
   ]
  },
  {
   "cell_type": "code",
   "execution_count": 5,
   "id": "c8be0721-ca3b-4655-be96-fbb0cf7c28c0",
   "metadata": {},
   "outputs": [
    {
     "name": "stdout",
     "output_type": "stream",
     "text": [
      "Let’s have Tet holidays!\n"
     ]
    }
   ],
   "source": [
    "message_1 = \"Let’s have Tet holidays!\"\n",
    "print(message_1)"
   ]
  },
  {
   "cell_type": "code",
   "execution_count": null,
   "id": "0243e431-6923-409f-b805-cb47b0f55c5a",
   "metadata": {},
   "outputs": [],
   "source": [
    "# BASIC PYTHON - STRING"
   ]
  },
  {
   "cell_type": "code",
   "execution_count": 10,
   "id": "6e231d56-0089-4298-93ee-92bd41ea2270",
   "metadata": {},
   "outputs": [
    {
     "name": "stdout",
     "output_type": "stream",
     "text": [
      "AI VIET NAM\n",
      "Tom\n",
      "Xin chào Tom!\n",
      "Chào mừng bạn đến AI VIET NAM !\n"
     ]
    }
   ],
   "source": [
    "page_name = \"AI VIET NAM\"\n",
    "user_name = 'Tom'\n",
    "greeting = \"\"\"Xin chào Tom!\n",
    "Chào mừng bạn đến AI VIET NAM !\"\"\"\n",
    "print(page_name)\n",
    "print(user_name)\n",
    "print(greeting)"
   ]
  },
  {
   "cell_type": "code",
   "execution_count": 16,
   "id": "4405f4b4-a3b6-4cd3-bcdf-773a36a06d8f",
   "metadata": {},
   "outputs": [
    {
     "name": "stdout",
     "output_type": "stream",
     "text": [
      "Tom học lập trình tại AI VIETNAM\n",
      "Ký tự đầu tiên trong chuỗi là: T\n",
      "Ký tự cuối cùng trong chuỗi là: M\n"
     ]
    }
   ],
   "source": [
    "student_name = \"Tom\"\n",
    "class_name = \"AI VIETNAM\"\n",
    "message = f\"{student_name} học lập trình tại {class_name}\"\n",
    "print(message)\n",
    "length = len(message)\n",
    "print(f\"Ký tự đầu tiên trong chuỗi là: {message[0]}\")\n",
    "print(f\"Ký tự cuối cùng trong chuỗi là: {message[-1]}\")\n"
   ]
  },
  {
   "cell_type": "code",
   "execution_count": 18,
   "id": "1df7bb1d-6da7-4da2-a667-4ca7d47cb505",
   "metadata": {},
   "outputs": [
    {
     "name": "stdout",
     "output_type": "stream",
     "text": [
      "tom Holland\n",
      "tom holland\n",
      "TOM HOLLAND\n",
      "Tom Holland\n"
     ]
    }
   ],
   "source": [
    "name = \"tom Holland\"\n",
    "lowercase_name = name.lower()\n",
    "uppercase_name = name.upper()\n",
    "titlecase_name = name.title()\n",
    "print(name)\n",
    "print(lowercase_name)\n",
    "print(uppercase_name)\n",
    "print(titlecase_name)"
   ]
  },
  {
   "cell_type": "code",
   "execution_count": 19,
   "id": "bf9074a8-e6db-4ba1-89e6-cf21e8a0bd24",
   "metadata": {},
   "outputs": [
    {
     "name": "stdout",
     "output_type": "stream",
     "text": [
      "Alice is a great Teacher !\n"
     ]
    }
   ],
   "source": [
    "name = \"Alice\"\n",
    "print(f\"{name} is a great Teacher !\")"
   ]
  },
  {
   "cell_type": "code",
   "execution_count": 20,
   "id": "85e68ddd-1478-4643-a153-e991cc2cc977",
   "metadata": {},
   "outputs": [
    {
     "name": "stdout",
     "output_type": "stream",
     "text": [
      "ms Taylor\n",
      "Title case: Ms Taylor\n",
      "Upper case: MS TAYLOR\n",
      "Lower case: ms taylor\n"
     ]
    }
   ],
   "source": [
    "name = \"ms Taylor\"\n",
    "lowercase_name = name.lower()\n",
    "uppercase_name = name.upper()\n",
    "titlecase_name = name.title()\n",
    "print(name)\n",
    "print(f\"Title case: {titlecase_name}\")\n",
    "print(f\"Upper case: {uppercase_name}\")\n",
    "print(f\"Lower case: {lowercase_name}\")"
   ]
  },
  {
   "cell_type": "code",
   "execution_count": null,
   "id": "d907a663-409c-46e1-948e-a50827e242d9",
   "metadata": {},
   "outputs": [],
   "source": [
    "# BASIC PYTHON - FOR LOOP"
   ]
  },
  {
   "cell_type": "code",
   "execution_count": 21,
   "id": "3f91c772-f71f-4983-95c9-204f44e49aa4",
   "metadata": {},
   "outputs": [
    {
     "name": "stdout",
     "output_type": "stream",
     "text": [
      "0\n",
      "1\n",
      "2\n",
      "3\n",
      "4\n"
     ]
    }
   ],
   "source": [
    "for i in range(5):\n",
    "    print(i)"
   ]
  },
  {
   "cell_type": "code",
   "execution_count": 22,
   "id": "63a4519b-c523-4cc2-a07b-211bb45e862c",
   "metadata": {},
   "outputs": [
    {
     "name": "stdout",
     "output_type": "stream",
     "text": [
      "A\n",
      "I\n",
      " \n",
      "V\n",
      "I\n",
      "E\n",
      "T\n",
      "N\n",
      "A\n",
      "M\n",
      " \n"
     ]
    }
   ],
   "source": [
    "for i in \"AI VIETNAM \":\n",
    "    print ( i )"
   ]
  },
  {
   "cell_type": "code",
   "execution_count": 23,
   "id": "e9a42dbc-a4c3-41d5-ae40-f4c40c08bb42",
   "metadata": {},
   "outputs": [
    {
     "name": "stdout",
     "output_type": "stream",
     "text": [
      " apple \n",
      " banana \n",
      " cherry \n"
     ]
    }
   ],
   "source": [
    "fruits = [\" apple \", \" banana \", \" cherry \"]\n",
    "for fruit in fruits:\n",
    "    print(fruit)"
   ]
  },
  {
   "cell_type": "code",
   "execution_count": 25,
   "id": "eaa53d81-58c7-44d7-9046-de086c656f2a",
   "metadata": {},
   "outputs": [
    {
     "name": "stdout",
     "output_type": "stream",
     "text": [
      "1\n",
      "2\n",
      "3\n"
     ]
    }
   ],
   "source": [
    "numbers = (1,2,3)\n",
    "for number in numbers:\n",
    "    print(number)"
   ]
  },
  {
   "cell_type": "code",
   "execution_count": 29,
   "id": "744e0474-71c7-4ef5-b5fe-1df8a9b97d1e",
   "metadata": {},
   "outputs": [
    {
     "name": "stdout",
     "output_type": "stream",
     "text": [
      "Bông:90\n",
      "Hoa:80\n",
      "Nụ:85\n"
     ]
    }
   ],
   "source": [
    "student_scores =  {\n",
    "                    \"Bông\": 90,\n",
    "                    \"Hoa\": 80,\n",
    "                    \"Nụ\": 85\n",
    "                  }\n",
    "for student, score in  student_scores.items():\n",
    "    print(f\"{student}:{score}\")"
   ]
  },
  {
   "cell_type": "code",
   "execution_count": null,
   "id": "333a7a01-6d3c-4833-bbc4-0105438bc85b",
   "metadata": {},
   "outputs": [],
   "source": [
    "'''List comprehension [ expression for item in iterable if condition ]\n",
    "• expression: Biểu thức được áp dụng cho mỗi phần tử.\n",
    "• item: Phần tử hiện tại từ iterable.\n",
    "• iterable: Bất kỳ đối tượng nào có thể lặp (như danh sách, chuỗi, range, v.v.).\n",
    "• condition: (Tùy chọn) Điều kiện để lọc các phần tử\n",
    "'''"
   ]
  },
  {
   "cell_type": "code",
   "execution_count": 30,
   "id": "a005fd11-1aaf-4e71-92b3-c953cacd3dff",
   "metadata": {},
   "outputs": [
    {
     "name": "stdout",
     "output_type": "stream",
     "text": [
      "[0, 4, 16, 36, 64]\n"
     ]
    }
   ],
   "source": [
    "squares = [x ** 2 for x in range(10) if x % 2 ==0]\n",
    "print(squares)"
   ]
  },
  {
   "cell_type": "code",
   "execution_count": null,
   "id": "ec21eb33-db46-4773-9de4-533f2e81369d",
   "metadata": {},
   "outputs": [],
   "source": [
    "'''{ key_expression : value_expression for item in iterable if condition }\n",
    "• key_expression: Biểu thức cho khóa.\n",
    "• value_expression: Biểu thức cho giá trị.\n",
    "• item, iterable, và condition: Tương tự như trong list comprehension.\n",
    "'''"
   ]
  },
  {
   "cell_type": "code",
   "execution_count": 31,
   "id": "84f3af50-83f6-4ef6-adf1-fbf59f46b4d2",
   "metadata": {},
   "outputs": [
    {
     "name": "stdout",
     "output_type": "stream",
     "text": [
      "{1: 1, 3: 9, 5: 25, 7: 49, 9: 81}\n"
     ]
    }
   ],
   "source": [
    "squares_dict = {x : x**2 for x in range(10) if x %2 !=0}\n",
    "print (squares_dict)"
   ]
  },
  {
   "cell_type": "code",
   "execution_count": 32,
   "id": "caefecf6-e9cb-41b2-82e2-b562c074559a",
   "metadata": {},
   "outputs": [
    {
     "name": "stdout",
     "output_type": "stream",
     "text": [
      "0\n",
      "1\n",
      "3\n",
      "4\n"
     ]
    }
   ],
   "source": [
    "for i in range(5):\n",
    "    if i == 2:\n",
    "        continue\n",
    "    print(i)"
   ]
  },
  {
   "cell_type": "code",
   "execution_count": 34,
   "id": "9a88e7a6-d6e4-4f34-8b31-83b49110747e",
   "metadata": {},
   "outputs": [
    {
     "name": "stdout",
     "output_type": "stream",
     "text": [
      "0\n",
      "1\n",
      "2\n"
     ]
    }
   ],
   "source": [
    "for i in range(5):\n",
    "    if i == 3:\n",
    "        break\n",
    "    print(i)"
   ]
  },
  {
   "cell_type": "code",
   "execution_count": 50,
   "id": "1a241136-813e-4540-aa43-4a5a512bf22d",
   "metadata": {},
   "outputs": [
    {
     "name": "stdout",
     "output_type": "stream",
     "text": [
      "matrix có 4 hàng\n",
      "matrix có 3 cột\n",
      "[1, 2, 3]\n",
      "1\n",
      "2\n",
      "3\n",
      "[4, 5, 6]\n",
      "4\n",
      "5\n",
      "6\n",
      "[7, 8, 9]\n",
      "7\n",
      "8\n",
      "9\n",
      "[10, 11, 12]\n",
      "10\n",
      "11\n",
      "12\n",
      "Vị trí (0,0): 1\n",
      "Vị trí (0,1): 2\n",
      "Vị trí (0,2): 3\n",
      "Vị trí (1,0): 4\n",
      "Vị trí (1,1): 5\n",
      "Vị trí (1,2): 6\n",
      "Vị trí (2,0): 7\n",
      "Vị trí (2,1): 8\n",
      "Vị trí (2,2): 9\n",
      "Vị trí (3,0): 10\n",
      "Vị trí (3,1): 11\n",
      "Vị trí (3,2): 12\n"
     ]
    }
   ],
   "source": [
    "matrix = [\n",
    "    [1, 2, 3],\n",
    "    [4, 5, 6],\n",
    "    [7, 8, 9],\n",
    "    [10, 11, 12]\n",
    "]\n",
    "# Vòng lặp for lồng nhau để duyệt và in ra vị trí và giá trị phần tử\n",
    "print(f\"matrix có {len(matrix)} hàng\")\n",
    "print(f\"matrix có {len(matrix[0])} cột\")\n",
    "for i in range(len(matrix)):\n",
    "    print(matrix[i])\n",
    "    for j in range(len(matrix[i])):\n",
    "        print(matrix[i][j])\n",
    "for i in range(len(matrix)):\n",
    "    for j in range(len(matrix[i])):\n",
    "        print (f\"Vị trí ({i},{j}): {matrix[i][j]}\")"
   ]
  },
  {
   "cell_type": "code",
   "execution_count": null,
   "id": "fc827ca4-b40a-4d70-9b91-a166b66be565",
   "metadata": {},
   "outputs": [],
   "source": [
    "# BASIC PYTHON - WHILE LOOP"
   ]
  },
  {
   "cell_type": "code",
   "execution_count": 51,
   "id": "40cf17c1-eee8-46d2-a4f9-832353d455f5",
   "metadata": {},
   "outputs": [
    {
     "name": "stdout",
     "output_type": "stream",
     "text": [
      "1\n",
      "2\n",
      "3\n",
      "4\n",
      "5\n"
     ]
    }
   ],
   "source": [
    "i = 1\n",
    "while i<=5:\n",
    "    print(i)\n",
    "    i+=1\n"
   ]
  },
  {
   "cell_type": "code",
   "execution_count": 53,
   "id": "6f814349-84bf-44d4-9892-16bd11b256b8",
   "metadata": {},
   "outputs": [
    {
     "name": "stdout",
     "output_type": "stream",
     "text": [
      "Jump : 1 times\n",
      "Jump : 2 times\n",
      "Jump : 3 times\n",
      "Jump : 4 times\n",
      "Jump : 5 times\n"
     ]
    }
   ],
   "source": [
    "has_energy = True\n",
    "jumb_count = 0\n",
    "while has_energy:\n",
    "    jumb_count +=1\n",
    "    print(f\"Jump : {jumb_count} times\")\n",
    "    if jumb_count == 5:\n",
    "        has_energy = False\n",
    "    "
   ]
  },
  {
   "cell_type": "code",
   "execution_count": 65,
   "id": "f278f149-71a8-43b0-a6b5-22304840c58e",
   "metadata": {},
   "outputs": [
    {
     "name": "stdout",
     "output_type": "stream",
     "text": [
      "1\n",
      "2\n",
      "3\n",
      "4\n",
      "5\n"
     ]
    }
   ],
   "source": [
    "i = 1\n",
    "while i <= 10:\n",
    "    print (i)\n",
    "    # i += 1  \n",
    "    if i == 5:\n",
    "        break\n",
    "    i += 1\n"
   ]
  },
  {
   "cell_type": "code",
   "execution_count": 64,
   "id": "9e255880-a169-4b3f-9e66-cb4007ee92a0",
   "metadata": {},
   "outputs": [
    {
     "name": "stdout",
     "output_type": "stream",
     "text": [
      "1\n",
      "3\n",
      "5\n",
      "7\n",
      "9\n"
     ]
    }
   ],
   "source": [
    "i = 0\n",
    "while i < 10:\n",
    "    i += 1  \n",
    "    if i % 2 == 0:\n",
    "        continue\n",
    "    print (i)"
   ]
  },
  {
   "cell_type": "code",
   "execution_count": 66,
   "id": "e17fe29a-6531-4668-bc05-d5f5c9624cec",
   "metadata": {},
   "outputs": [
    {
     "name": "stdout",
     "output_type": "stream",
     "text": [
      "2\n",
      "4\n",
      "6\n",
      "8\n",
      "10\n"
     ]
    }
   ],
   "source": [
    "i = 0\n",
    "while i < 10:\n",
    "    i += 1  \n",
    "    if i % 2 != 0:\n",
    "        continue\n",
    "    print (i)"
   ]
  },
  {
   "cell_type": "code",
   "execution_count": 67,
   "id": "f101e067-46d8-4512-bcfe-3ce3ff72688a",
   "metadata": {},
   "outputs": [
    {
     "name": "stdout",
     "output_type": "stream",
     "text": [
      " apple \n",
      " banana \n",
      " cherry \n"
     ]
    }
   ],
   "source": [
    "fruits = [\" apple \", \" banana \", \" cherry \"]\n",
    "i = 0\n",
    "while i < len(fruits):\n",
    "    print(fruits[i])\n",
    "    i += 1"
   ]
  },
  {
   "cell_type": "code",
   "execution_count": 87,
   "id": "fd197e87-ed60-4359-83e7-dad0b764d879",
   "metadata": {},
   "outputs": [
    {
     "name": "stdout",
     "output_type": "stream",
     "text": [
      "1\n",
      "2\n",
      "3\n"
     ]
    }
   ],
   "source": [
    "numbers = (1,2,3)\n",
    "i = 0\n",
    "while i < len(numbers):\n",
    "    print(numbers[i])\n",
    "    i += 1"
   ]
  },
  {
   "cell_type": "code",
   "execution_count": 99,
   "id": "bcda8791-c05d-4dfc-bcba-9e901dbeb852",
   "metadata": {},
   "outputs": [
    {
     "name": "stdout",
     "output_type": "stream",
     "text": [
      "matrix có 4 hàng\n",
      "matrix có 3 cột\n",
      "Vị trí (0,0): 1\n",
      "Vị trí (0,1): 2\n",
      "Vị trí (0,2): 3\n",
      "Vị trí (1,0): 4\n",
      "Vị trí (1,1): 5\n",
      "Vị trí (1,2): 6\n",
      "Vị trí (2,0): 7\n",
      "Vị trí (2,1): 8\n",
      "Vị trí (2,2): 9\n",
      "Vị trí (3,0): 10\n",
      "Vị trí (3,1): 11\n",
      "Vị trí (3,2): 12\n",
      "[1, 2, 3]\n",
      "1\n",
      "2\n",
      "3\n",
      "[4, 5, 6]\n",
      "4\n",
      "5\n",
      "6\n",
      "[7, 8, 9]\n",
      "7\n",
      "8\n",
      "9\n",
      "[10, 11, 12]\n",
      "10\n",
      "11\n",
      "12\n"
     ]
    }
   ],
   "source": [
    "matrix = [\n",
    "    [1, 2, 3],\n",
    "    [4, 5, 6],\n",
    "    [7, 8, 9],\n",
    "    [10, 11, 12]\n",
    "]\n",
    "# Vòng lặp for lồng nhau để duyệt và in ra vị trí và giá trị phần tử\n",
    "print(f\"matrix có {len(matrix)} hàng\")\n",
    "print(f\"matrix có {len(matrix[0])} cột\")\n",
    "i = 0\n",
    "j = 0\n",
    "while i < len(matrix):\n",
    "    while j < len(matrix[i]):\n",
    "        print (f\"Vị trí ({i},{j}): {matrix[i][j]}\")\n",
    "        j += 1\n",
    "    i += 1\n",
    "    j = 0\n",
    "\n",
    "i = 0\n",
    "j = 0\n",
    "while i < len(matrix):\n",
    "    print (matrix[i])\n",
    "    while j < len(matrix[i]):\n",
    "        print (matrix[i][j])\n",
    "        j += 1\n",
    "    i += 1\n",
    "    j = 0"
   ]
  },
  {
   "cell_type": "code",
   "execution_count": null,
   "id": "b19fff36-0c2b-4084-8493-e14d839d1ed3",
   "metadata": {},
   "outputs": [],
   "source": []
  }
 ],
 "metadata": {
  "kernelspec": {
   "display_name": "Python 3 (ipykernel)",
   "language": "python",
   "name": "python3"
  },
  "language_info": {
   "codemirror_mode": {
    "name": "ipython",
    "version": 3
   },
   "file_extension": ".py",
   "mimetype": "text/x-python",
   "name": "python",
   "nbconvert_exporter": "python",
   "pygments_lexer": "ipython3",
   "version": "3.11.7"
  }
 },
 "nbformat": 4,
 "nbformat_minor": 5
}
