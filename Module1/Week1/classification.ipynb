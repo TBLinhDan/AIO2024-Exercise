{
 "cells": [
  {
   "cell_type": "code",
   "execution_count": 1,
   "id": "3eba8be9-9511-4711-b7f2-c126d9fbe6a1",
   "metadata": {},
   "outputs": [
    {
     "name": "stdout",
     "output_type": "stream",
     "text": [
      "Input correct number\n",
      "precision is : 0.4\n",
      "recall is : 0.3333333333333333\n",
      "f1_score : 0.3636363636363636\n",
      "None\n",
      "\n",
      "Input incorrect type of fp\n",
      "fp must be int\n",
      "None\n",
      "\n",
      "Input incorrect type of fn\n",
      "fn must be int\n",
      "None\n",
      "\n",
      "Input fn = 0\n",
      "tp and fp and fn must be greater than zero\n",
      "\n",
      "multiple-choice questions No 1\n",
      "0.31\n"
     ]
    }
   ],
   "source": [
    "#1. classification model\n",
    "\n",
    "def calc_f1_score(tp, fp, fn):\n",
    "    precision = tp / (tp + fp)\n",
    "    recall = tp / (tp + fn)\n",
    "    f1_score = 2 * (precision * recall) / (precision + recall)\n",
    "    return(f1_score)\n",
    "\n",
    "def exercise1(tp, fp, fn):\n",
    "    if (type(tp) != int) or (type(fp) != int) or (type(fn) != int): \n",
    "        if type(tp) != int:\n",
    "            print(\"tp must be int\")\n",
    "           # return\n",
    "        elif type(fp) != int:\n",
    "            print(\"fp must be int\")\n",
    "            #return\n",
    "        elif type(fn) != int:\n",
    "            print(\"fn must be int\")\n",
    "            #return\n",
    "    else:\n",
    "        if (tp > 0) and (fp > 0) and (fn > 0):\n",
    "            precision = tp / (tp + fp)\n",
    "            recall = tp / (tp + fn)\n",
    "            f1_score = 2 * (precision * recall) / (precision + recall)\n",
    "            print(f\"precision is : {precision}\")\n",
    "            print(f\"recall is : {recall}\")\n",
    "            print(f\"f1_score : {f1_score}\")        \n",
    "        else:\n",
    "            return (\"tp and fp and fn must be greater than zero\")\n",
    "print(\"Input correct number\")\n",
    "print(exercise1(tp=2, fp=3, fn=4))\n",
    "print(f\"\\nInput incorrect type of fp\")\n",
    "print(exercise1(tp=2, fp='a', fn=4))\n",
    "print(f\"\\nInput incorrect type of fn\")\n",
    "print(exercise1(tp=2, fp=3, fn='a'))\n",
    "print(f\"\\nInput fn = 0\")\n",
    "print(exercise1(tp=2, fp=3, fn=0))\n",
    "\n",
    "print(f\"\\nmultiple-choice questions No 1\")\n",
    "assert round(calc_f1_score(tp =2, fp =3, fn =5), 2) == 0.33\n",
    "print (round( calc_f1_score(tp =2, fp =4, fn =5), 2))"
   ]
  },
  {
   "cell_type": "code",
   "execution_count": null,
   "id": "bef2b4c1-aec2-4d53-82fb-72472117ab86",
   "metadata": {},
   "outputs": [],
   "source": []
  }
 ],
 "metadata": {
  "kernelspec": {
   "display_name": "Python 3 (ipykernel)",
   "language": "python",
   "name": "python3"
  },
  "language_info": {
   "codemirror_mode": {
    "name": "ipython",
    "version": 3
   },
   "file_extension": ".py",
   "mimetype": "text/x-python",
   "name": "python",
   "nbconvert_exporter": "python",
   "pygments_lexer": "ipython3",
   "version": "3.11.7"
  }
 },
 "nbformat": 4,
 "nbformat_minor": 5
}
