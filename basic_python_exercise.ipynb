{
 "cells": [
  {
   "cell_type": "code",
   "execution_count": 166,
   "id": "55ffcf68-bccd-4013-829c-d722c116e8ca",
   "metadata": {},
   "outputs": [
    {
     "name": "stdout",
     "output_type": "stream",
     "text": [
      "0.31\n"
     ]
    }
   ],
   "source": [
    "# Câu hỏi 1\n",
    "import math\n",
    "tp = 0\n",
    "fp = 0\n",
    "fn = 0\n",
    "def calc_f1_score(tp, fp, fn):\n",
    "    precision = tp / (tp + fp)\n",
    "    recall = tp / (tp + fn)\n",
    "    f1_score = 2 * (precision * recall) / (precision + recall)\n",
    "    return(f1_score)\n",
    "    \n",
    "assert round(calc_f1_score(tp =2, fp =3, fn =5), 2) == 0.33\n",
    "print (round( calc_f1_score(tp =2, fp =4, fn =5), 2))\n",
    "#calc_f1_score(2,4,5)"
   ]
  },
  {
   "cell_type": "code",
   "execution_count": 167,
   "id": "fa506ca0-c460-48ce-8287-0120e7c3e509",
   "metadata": {},
   "outputs": [
    {
     "name": "stdout",
     "output_type": "stream",
     "text": [
      "True\n",
      "False\n"
     ]
    }
   ],
   "source": [
    "# Câu hỏi 2\n",
    "import math\n",
    "def is_number(n):\n",
    "    try:\n",
    "        float(n)\n",
    "    except ValueError:\n",
    "        return False\n",
    "    return True\n",
    "assert is_number(3) == 1.0\n",
    "assert is_number('-2a') == 0.0\n",
    "print (is_number (1))\n",
    "print (is_number ('n'))\n"
   ]
  },
  {
   "cell_type": "code",
   "execution_count": 168,
   "id": "b97a8979-9baa-4cc0-8c7b-baf557f0d5cc",
   "metadata": {},
   "outputs": [
    {
     "name": "stdout",
     "output_type": "stream",
     "text": [
      "1\n",
      "5\n",
      "0\n",
      "3\n",
      "0\n"
     ]
    }
   ],
   "source": [
    "#  Câu hỏi 3\n",
    "def relu(x):\n",
    "    if x > 0:\n",
    "        return x\n",
    "    else:\n",
    "        return 0\n",
    "        \n",
    "data = [1, 5, -4, 3, -2]\n",
    "for i in range(len(data)):\n",
    "    print(relu(data[i]))"
   ]
  },
  {
   "cell_type": "code",
   "execution_count": 169,
   "id": "11a863a4-4ba5-4d37-b556-385501a0bd43",
   "metadata": {},
   "outputs": [
    {
     "name": "stdout",
     "output_type": "stream",
     "text": [
      "0.73\n",
      "0.99\n",
      "0.02\n",
      "0.95\n",
      "0.98\n",
      "\n",
      "\n",
      "0.88\n"
     ]
    }
   ],
   "source": [
    "# Câu hỏi 4 \n",
    "import numpy as np\n",
    "import math\n",
    "\n",
    "def sigmoid(x):\n",
    "  return 1 / (1 + np.exp(-x))\n",
    "\n",
    "data = [1, 5, -4, 3, 4]\n",
    "for i in range(len(data)):\n",
    "    print(round(sigmoid(data[i]), 2))\n",
    "#print(sigmoid(-2))\n",
    "assert round(sigmoid(3), 2) == 0.95\n",
    "print(f\"\\n\")\n",
    "print(round(sigmoid(2), 2))"
   ]
  },
  {
   "cell_type": "code",
   "execution_count": 170,
   "id": "17a9f1ca-5a58-423e-b7b7-688ebdb552f6",
   "metadata": {},
   "outputs": [
    {
     "name": "stdout",
     "output_type": "stream",
     "text": [
      "1\n",
      "5\n",
      "-0.009816843611112657\n",
      "3\n",
      "-0.008646647167633872\n",
      "\n",
      "\n",
      "-0.01\n"
     ]
    }
   ],
   "source": [
    "# Câu hỏi 5\n",
    "import numpy as np\n",
    "import math\n",
    "\n",
    "def elu(x, alpha=0.01):\n",
    "    if x > 0:\n",
    "        return x\n",
    "    else:\n",
    "        return alpha * (np.exp(x) - 1)\n",
    "\n",
    "data = [1, 5, -4, 3, -2]\n",
    "for i in range(len(data)):\n",
    "    print(elu((data[i]), alpha=0.01))\n",
    "print(f\"\\n\")    \n",
    "assert round(elu(1)) == 1\n",
    "print (round(elu(-1), 2))"
   ]
  },
  {
   "cell_type": "code",
   "execution_count": 174,
   "id": "cfc197cc-40bc-404e-aff4-2646c453a3da",
   "metadata": {},
   "outputs": [
    {
     "name": "stdout",
     "output_type": "stream",
     "text": [
      "0.95\n"
     ]
    }
   ],
   "source": [
    "# Câu hỏi 6\n",
    "import math\n",
    "\n",
    "def sigmoid(x):\n",
    "  return 1 / (1 + np.exp(-x))\n",
    "    \n",
    "def relu(x):\n",
    "    if x > 0:\n",
    "        return x\n",
    "    else:\n",
    "        return 0\n",
    "def elu(x, alpha=0.01):\n",
    "    if x > 0:\n",
    "        return x\n",
    "    else:\n",
    "        return alpha * (np.exp(x) - 1)\n",
    "\n",
    "def calc_activation_func(x, act_name):\n",
    "    if act_name == \"sigmoid\":\n",
    "        return sigmoid(x)\n",
    "    elif act_name == \"relu\":\n",
    "        return relu(x)\n",
    "    else:\n",
    "        return elu(x, alpha=0.01)\n",
    "            \n",
    "# print(calc_activation_func(1, \"relu\"))\n",
    "assert calc_activation_func(1, \"relu\") == 1\n",
    "print (round(calc_activation_func(3, \"sigmoid\"), 2))"
   ]
  },
  {
   "cell_type": "code",
   "execution_count": 175,
   "id": "74bc3653-53da-4b7e-9a4c-12e0dde54829",
   "metadata": {},
   "outputs": [
    {
     "name": "stdout",
     "output_type": "stream",
     "text": [
      "7\n"
     ]
    }
   ],
   "source": [
    "# Câu hỏi 7\n",
    "import numpy as np\n",
    "\n",
    "def calc_ae(y, y_hat):\n",
    "    return np.abs(y - y_hat)\n",
    "\n",
    "y = 1\n",
    "y_hat = 6\n",
    "assert calc_ae(y, y_hat) ==5\n",
    "y = 2\n",
    "y_hat = 9\n",
    "print (calc_ae(y, y_hat))"
   ]
  },
  {
   "cell_type": "code",
   "execution_count": 176,
   "id": "40400166-6ec5-4e09-ba32-1569de9e21be",
   "metadata": {},
   "outputs": [
    {
     "name": "stdout",
     "output_type": "stream",
     "text": [
      "1\n"
     ]
    }
   ],
   "source": [
    "#Câu hỏi 8\n",
    "import numpy as np\n",
    "def calc_se (y, y_hat):\n",
    "    x = np.abs(y - y_hat)\n",
    "    return  x ** 2\n",
    "\n",
    "y = 4\n",
    "y_hat = 2\n",
    "assert calc_se(y, y_hat) == 4\n",
    "print(calc_se(2, 1))\n"
   ]
  },
  {
   "cell_type": "code",
   "execution_count": 177,
   "id": "455e376b-9216-452c-950b-491483141ecf",
   "metadata": {},
   "outputs": [
    {
     "name": "stdout",
     "output_type": "stream",
     "text": [
      "0.0015926529267151343\n",
      "-0.9999987316527259\n",
      "11.53029203039954\n",
      "11.573574828234543\n"
     ]
    }
   ],
   "source": [
    "def factorial(n):\n",
    "  if n == 0:\n",
    "    return 1\n",
    "  else:\n",
    "    return n * factorial(n-1)\n",
    "\n",
    "def approx_cos(x, n):\n",
    "    cos_x = 0\n",
    "    for i in range(n+1):\n",
    "        cos_x += ((-1)**i)*(x ** (2*i)) / factorial(2*i)\n",
    "    return cos_x\n",
    "\n",
    "def approx_sin(x, n):\n",
    "    sin_x = 0\n",
    "    for i in range(n+1):\n",
    "        sin_x += ((-1)**i)*(x ** (2*i+1)) / factorial(2*i+1)\n",
    "    return sin_x\n",
    "\n",
    "def approx_sinh(x, n):\n",
    "    sinh_x = 0\n",
    "    for i in range(n+1):\n",
    "        sinh_x += (x ** (2*i+1)) / factorial(2*i+1)\n",
    "    return sinh_x\n",
    "\n",
    "def approx_cosh(x, n):\n",
    "    cosh_x = 0\n",
    "    for i in range(n+1):\n",
    "        cosh_x += (x ** (2*i)) / factorial(2*i)\n",
    "    return cosh_x\n",
    "\n",
    "\n",
    "print(approx_sin(3.14, 10))\n",
    "print(approx_cos(3.14, 10))\n",
    "print(approx_sinh(3.14, 10))\n",
    "print(approx_cosh(3.14, 10))\n",
    "    \n",
    "#assert round ( approx_cos ( x =1 , n =10) , 2) ==0.54\n",
    "#print ( round ( approx_cos ( x =3.14 , n =10) , 2) )\n"
   ]
  },
  {
   "cell_type": "code",
   "execution_count": 178,
   "id": "14af4f4b-80ce-4510-b54f-d06afc384d34",
   "metadata": {},
   "outputs": [
    {
     "name": "stdout",
     "output_type": "stream",
     "text": [
      "-1.0\n"
     ]
    }
   ],
   "source": [
    "# Câu hỏi 9\n",
    "def factorial(n):\n",
    "  if n == 0:\n",
    "    return 1\n",
    "  else:\n",
    "    return n * factorial(n-1)\n",
    "\n",
    "def approx_cos(x, n):\n",
    "    cos_x = 0\n",
    "    for i in range(n+1):\n",
    "        cos_x += ((-1)**i)*(x ** (2*i)) / factorial(2*i)\n",
    "    return cos_x\n",
    "\n",
    "assert round(approx_cos(1 , 10), 2) == 0.54\n",
    "print (round(approx_cos(3.14, n =10), 2))"
   ]
  },
  {
   "cell_type": "code",
   "execution_count": 179,
   "id": "413b1648-39e5-4970-8e15-7cdc0fbcfa7a",
   "metadata": {},
   "outputs": [
    {
     "name": "stdout",
     "output_type": "stream",
     "text": [
      "0.0016\n"
     ]
    }
   ],
   "source": [
    "# Câu hỏi 10\n",
    "def factorial(n):\n",
    "  if n == 0:\n",
    "    return 1\n",
    "  else:\n",
    "    return n * factorial(n-1)\n",
    "      \n",
    "def approx_sin(x, n):\n",
    "    sin_x = 0\n",
    "    for i in range(n+1):\n",
    "        sin_x += ((-1)**i)*(x ** (2*i+1)) / factorial(2*i+1)\n",
    "    return sin_x\n",
    "\n",
    "assert round(approx_sin(1, 10), 4) == 0.8415\n",
    "print (round(approx_sin(3.14, 10), 4))"
   ]
  },
  {
   "cell_type": "code",
   "execution_count": 180,
   "id": "7b58cbe1-a20d-420a-b764-ea521fb73ed1",
   "metadata": {},
   "outputs": [
    {
     "name": "stdout",
     "output_type": "stream",
     "text": [
      "11.53\n"
     ]
    }
   ],
   "source": [
    "# Câu hỏi 11\n",
    "def factorial(n):\n",
    "  if n == 0:\n",
    "    return 1\n",
    "  else:\n",
    "    return n * factorial(n-1)\n",
    "\n",
    "def approx_sinh(x, n):\n",
    "    sinh_x = 0\n",
    "    for i in range(n+1):\n",
    "        sinh_x += (x ** (2*i+1)) / factorial(2*i+1)\n",
    "    return sinh_x\n",
    "\n",
    "assert round(approx_sinh(1 , 10), 2) == 1.18\n",
    "print (round(approx_sinh(3.14, 10), 2))"
   ]
  },
  {
   "cell_type": "code",
   "execution_count": 181,
   "id": "35d44cd5-9a87-48d3-b7df-6cc8596a57f5",
   "metadata": {},
   "outputs": [
    {
     "name": "stdout",
     "output_type": "stream",
     "text": [
      "11.57\n"
     ]
    }
   ],
   "source": [
    "# Câu hỏi 12\n",
    "def factorial(n):\n",
    "  if n == 0:\n",
    "    return 1\n",
    "  else:\n",
    "    return n * factorial(n-1)\n",
    "\n",
    "def approx_cosh(x, n):\n",
    "    cosh_x = 0\n",
    "    for i in range(n+1):\n",
    "        cosh_x += (x ** (2*i)) / factorial(2*i)\n",
    "    return cosh_x\n",
    "\n",
    "assert round(approx_cosh(1, 10), 2) == 1.54\n",
    "print(round(approx_cosh(3.14, 10), 2))\n"
   ]
  },
  {
   "cell_type": "code",
   "execution_count": 182,
   "id": "368b2fdc-89fb-4a68-9792-5254594a9d94",
   "metadata": {},
   "outputs": [
    {
     "name": "stdout",
     "output_type": "stream",
     "text": [
      "0.025031328369998107\n",
      "0.03544417213033135\n",
      "0.05625552183565574\n",
      "0.45836890322464546\n"
     ]
    }
   ],
   "source": [
    "# Câu hỏi 13\n",
    "def md_nre_single_sample(y , y_hat , n , p) :\n",
    "    y_root = y ** (1/n)\n",
    "    y_hat_root = y_hat ** (1/n)\n",
    "    difference = y_root - y_hat_root\n",
    "    loss = difference ** p\n",
    "    return loss\n",
    "\n",
    "print(md_nre_single_sample(100, 99.5, 2, 1))\n",
    "print(md_nre_single_sample(50, 49.5, 2, 1))\n",
    "print(md_nre_single_sample(20, 19.5, 2, 1))\n",
    "print(md_nre_single_sample(0.6, 0.1, 2,1))\n"
   ]
  },
  {
   "cell_type": "code",
   "execution_count": 231,
   "id": "88fe212a-a28a-41a4-b475-16afe9bb08ca",
   "metadata": {},
   "outputs": [
    {
     "name": "stdin",
     "output_type": "stream",
     "text": [
      "Input x = 1.5\n",
      "Input activation Function (sigmoid/relu/elu) : s\n"
     ]
    },
    {
     "name": "stdout",
     "output_type": "stream",
     "text": [
      "function_name is not supported\n",
      "s: f(1.5) = None\n"
     ]
    }
   ],
   "source": [
    "def is_number(n):\n",
    "    try:\n",
    "        float(n)\n",
    "    except ValueError:\n",
    "        return False\n",
    "    return True\n",
    "    \n",
    "x = input(\"Input x =\")\n",
    "if is_number(x) == False:\n",
    "    print(\"x must be a number\")\n",
    "else:\n",
    "    x = float(x)\n",
    "    act_name = str(input(\"Input activation Function (sigmoid/relu/elu) :\"))\n",
    "    def sigmoid(x):\n",
    "        return 1 / (1 + np.exp(-x))\n",
    "        \n",
    "    def relu(x):\n",
    "        if x > 0:\n",
    "            return x\n",
    "        else:\n",
    "            return 0\n",
    "            \n",
    "    def elu(x, alpha=0.01):\n",
    "        if x > 0:\n",
    "            return x\n",
    "        else:\n",
    "            return alpha * (np.exp(x) - 1)\n",
    "    \n",
    "    def calc_activation_func(x, act_name):\n",
    "        if act_name == \"sigmoid\":\n",
    "            return sigmoid(x)        \n",
    "        elif act_name == \"relu\":\n",
    "            return relu(x)       \n",
    "        elif act_name == \"elu\":\n",
    "            return elu(x, alpha=0.01)   \n",
    "        else:\n",
    "            print(\"function_name is not supported\")\n",
    "    print(f\"{act_name}: f({x}) = {calc_activation_func(x, act_name)}\")\n",
    "    "
   ]
  },
  {
   "cell_type": "code",
   "execution_count": 264,
   "id": "6e6a7e23-0391-4dfa-b9c4-473eac8bdbbb",
   "metadata": {},
   "outputs": [
    {
     "name": "stdin",
     "output_type": "stream",
     "text": [
      "Input number of samples: 3\n"
     ]
    },
    {
     "name": "stdout",
     "output_type": "stream",
     "text": [
      "predict list:\n",
      " [0.5708174580826642, 2.335323404444365, 7.217104746255988]\n",
      "target list:\n",
      " [5.344916816776037, 9.416354842173817, 1.4519264986211922]\n",
      "\n",
      "loss name: MAE\n",
      "samlpe: 0, predict: 0.5708174580826642, target: 5.344916816776037\n",
      "loss: 4.774099358693372\n",
      "samlpe: 1, predict: 2.335323404444365, target: 9.416354842173817\n",
      "loss: 7.081031437729452\n",
      "samlpe: 2, predict: 7.217104746255988, target: 1.4519264986211922\n",
      "loss: 5.765178247634795\n",
      "\n",
      "loss name: MSE\n",
      "samlpe: 0, predict: 0.5708174580826642, target: 5.344916816776037\n",
      "loss: 22.79202468667647\n",
      "samlpe: 1, predict: 2.335323404444365, target: 9.416354842173817\n",
      "loss: 50.14100622211283\n",
      "samlpe: 2, predict: 7.217104746255988, target: 1.4519264986211922\n",
      "loss: 33.237280227001406\n",
      "\n",
      "loss name: RMSE\n",
      "samlpe: 0, predict: 0.5708174580826642, target: 5.344916816776037\n",
      "loss: 4.774099358693372\n",
      "samlpe: 1, predict: 2.335323404444365, target: 9.416354842173817\n",
      "loss: 7.081031437729452\n",
      "samlpe: 2, predict: 7.217104746255988, target: 1.4519264986211922\n",
      "loss: 5.765178247634795\n"
     ]
    }
   ],
   "source": [
    "import numpy as np\n",
    "import math\n",
    "\n",
    "num_sample = int(input(\"Input number of samples:\"))\n",
    "predict = []\n",
    "target = []\n",
    "for i in range(num_sample):\n",
    "    random_number_predict = np.random.uniform(0,10)\n",
    "    predict.append(random_number_predict)\n",
    "print(f\"predict list:\\n {predict}\")\n",
    "\n",
    "for i in range(num_sample):\n",
    "    random_number_target = np.random.uniform(0,10)\n",
    "    target.append(random_number_target)\n",
    "print(f\"target list:\\n {target}\")\n",
    "\n",
    "print(f\"\\nloss name: MAE\")\n",
    "for i in range(num_sample):\n",
    "    print(f\"samlpe: {i}, predict: {predict[i]}, target: {target[i]}\")\n",
    "    print(f\"loss: {abs(predict[i] - target[i])}\")\n",
    "\n",
    "print(f\"\\nloss name: MSE\")\n",
    "for i in range(num_sample):\n",
    "    print(f\"samlpe: {i}, predict: {predict[i]}, target: {target[i]}\")\n",
    "    print(f\"loss: {((predict[i] - target[i])) ** 2}\")\n",
    "\n",
    "print(f\"\\nloss name: RMSE\")\n",
    "for i in range(num_sample):\n",
    "    print(f\"samlpe: {i}, predict: {predict[i]}, target: {target[i]}\")\n",
    "    print(f\"loss: {math.sqrt(((predict[i] - target[i])) ** 2)}\")\n"
   ]
  },
  {
   "cell_type": "code",
   "execution_count": null,
   "id": "37579915-ebc8-4237-ac0e-309ef9fd8faa",
   "metadata": {},
   "outputs": [],
   "source": []
  }
 ],
 "metadata": {
  "kernelspec": {
   "display_name": "Python 3 (ipykernel)",
   "language": "python",
   "name": "python3"
  },
  "language_info": {
   "codemirror_mode": {
    "name": "ipython",
    "version": 3
   },
   "file_extension": ".py",
   "mimetype": "text/x-python",
   "name": "python",
   "nbconvert_exporter": "python",
   "pygments_lexer": "ipython3",
   "version": "3.11.7"
  }
 },
 "nbformat": 4,
 "nbformat_minor": 5
}
